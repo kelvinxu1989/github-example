{
    "cells": [
        {
            "cell_type": "code",
            "execution_count": 1,
            "metadata": {},
            "outputs": [],
            "source": "import pandas as pd \nimport numpy as np"
        },
        {
            "cell_type": "code",
            "execution_count": 2,
            "metadata": {},
            "outputs": [
                {
                    "data": {
                        "text/plain": "'Hello Capstone Project Course!'"
                    },
                    "execution_count": 2,
                    "metadata": {},
                    "output_type": "execute_result"
                }
            ],
            "source": "x = 'Hello Capstone Project Course!'\nx"
        },
        {
            "cell_type": "markdown",
            "metadata": {},
            "source": "___\n"
        },
        {
            "cell_type": "markdown",
            "metadata": {},
            "source": "## Description "
        },
        {
            "cell_type": "markdown",
            "metadata": {},
            "source": "**Hello. This notebook will be mainly used for the capstone project.**"
        }
    ],
    "metadata": {
        "kernelspec": {
            "display_name": "Python 3.6",
            "language": "python",
            "name": "python3"
        },
        "language_info": {
            "codemirror_mode": {
                "name": "ipython",
                "version": 3
            },
            "file_extension": ".py",
            "mimetype": "text/x-python",
            "name": "python",
            "nbconvert_exporter": "python",
            "pygments_lexer": "ipython3",
            "version": "3.6.9"
        }
    },
    "nbformat": 4,
    "nbformat_minor": 1
}
